{
 "cells": [
  {
   "cell_type": "code",
   "execution_count": 2,
   "id": "5b6952ef",
   "metadata": {},
   "outputs": [],
   "source": [
    "import pandas as pd\n",
    "import numpy as np\n",
    "\n",
    "from sklearn.model_selection import train_test_split, GridSearchCV, RandomizedSearchCV\n",
    "from sklearn.linear_model import LogisticRegression\n",
    "from sklearn.tree import DecisionTreeClassifier\n",
    "from sklearn.ensemble import RandomForestClassifier\n",
    "from sklearn.svm import SVC\n",
    "\n",
    "from sklearn.metrics import accuracy_score, precision_score, recall_score, f1_score, roc_auc_score\n"
   ]
  },
  {
   "cell_type": "code",
   "execution_count": 3,
   "id": "bbbda394",
   "metadata": {},
   "outputs": [
    {
     "name": "stdout",
     "output_type": "stream",
     "text": [
      "Train shape: (237, 10) Test shape: (60, 10)\n"
     ]
    }
   ],
   "source": [
    "df = pd.read_csv(\"../data/heart_selected.csv\")\n",
    "X = df.drop(\"target\", axis=1)\n",
    "y = df[\"target\"]\n",
    "\n",
    "# Train-test split\n",
    "X_train, X_test, y_train, y_test = train_test_split(\n",
    "    X, y, test_size=0.2, random_state=42, stratify=y\n",
    ")\n",
    "\n",
    "print(\"Train shape:\", X_train.shape, \"Test shape:\", X_test.shape)\n",
    "\n",
    "\n",
    "\n",
    "\n"
   ]
  },
  {
   "cell_type": "code",
   "execution_count": 4,
   "id": "9e987158",
   "metadata": {},
   "outputs": [
    {
     "name": "stdout",
     "output_type": "stream",
     "text": [
      "Baseline Random Forest Accuracy: 0.8166666666666667\n"
     ]
    }
   ],
   "source": [
    "baseline_rf = RandomForestClassifier(random_state=42)\n",
    "baseline_rf.fit(X_train, y_train)\n",
    "\n",
    "y_pred = baseline_rf.predict(X_test)\n",
    "baseline_acc = accuracy_score(y_test, y_pred)\n",
    "\n",
    "print(\"Baseline Random Forest Accuracy:\", baseline_acc)\n",
    "\n"
   ]
  },
  {
   "cell_type": "code",
   "execution_count": 5,
   "id": "658a905f",
   "metadata": {},
   "outputs": [
    {
     "name": "stdout",
     "output_type": "stream",
     "text": [
      "Best Params (Random Forest): {'max_depth': None, 'min_samples_leaf': 4, 'min_samples_split': 2, 'n_estimators': 50}\n",
      "Random Forest Test Accuracy: 0.8333333333333334\n"
     ]
    }
   ],
   "source": [
    "param_grid = {\n",
    "    \"n_estimators\": [50, 100, 200],\n",
    "    \"max_depth\": [None, 5, 10],\n",
    "    \"min_samples_split\": [2, 5, 10],\n",
    "    \"min_samples_leaf\": [1, 2, 4]\n",
    "}\n",
    "\n",
    "grid_search = GridSearchCV(\n",
    "    estimator=RandomForestClassifier(random_state=42),\n",
    "    param_grid=param_grid,\n",
    "    scoring=\"accuracy\",\n",
    "    cv=5,\n",
    "    n_jobs=-1\n",
    ")\n",
    "\n",
    "grid_search.fit(X_train, y_train)\n",
    "\n",
    "best_rf = grid_search.best_estimator_\n",
    "rf_acc = accuracy_score(y_test, best_rf.predict(X_test))\n",
    "\n",
    "print(\"Best Params (Random Forest):\", grid_search.best_params_)\n",
    "print(\"Random Forest Test Accuracy:\", rf_acc)\n"
   ]
  },
  {
   "cell_type": "code",
   "execution_count": 6,
   "id": "9187de20",
   "metadata": {},
   "outputs": [
    {
     "name": "stdout",
     "output_type": "stream",
     "text": [
      "Best Params (SVM): {'kernel': 'rbf', 'gamma': 0.01, 'C': 1}\n",
      "SVM Test Accuracy: 0.8666666666666667\n"
     ]
    }
   ],
   "source": [
    "param_dist = {\n",
    "    \"C\": [0.1, 1, 10, 100],\n",
    "    \"gamma\": [1, 0.1, 0.01, 0.001],\n",
    "    \"kernel\": [\"rbf\", \"linear\"]\n",
    "}\n",
    "\n",
    "random_search = RandomizedSearchCV(\n",
    "    estimator=SVC(probability=True, random_state=42),\n",
    "    param_distributions=param_dist,\n",
    "    n_iter=10,\n",
    "    scoring=\"accuracy\",\n",
    "    cv=5,\n",
    "    random_state=42,\n",
    "    n_jobs=-1\n",
    ")\n",
    "\n",
    "random_search.fit(X_train, y_train)\n",
    "\n",
    "best_svm = random_search.best_estimator_\n",
    "svm_acc = accuracy_score(y_test, best_svm.predict(X_test))\n",
    "\n",
    "print(\"Best Params (SVM):\", random_search.best_params_)\n",
    "print(\"SVM Test Accuracy:\", svm_acc)\n",
    "\n"
   ]
  },
  {
   "cell_type": "code",
   "execution_count": 7,
   "id": "e6767e47",
   "metadata": {},
   "outputs": [
    {
     "name": "stdout",
     "output_type": "stream",
     "text": [
      "\n",
      "Model Comparison:\n",
      "Baseline RF Accuracy: 0.817\n",
      "Tuned RF Accuracy: 0.833\n",
      "Tuned SVM Accuracy: 0.867\n",
      "Selected Model: SVM\n"
     ]
    }
   ],
   "source": [
    "print(\"\\nModel Comparison:\")\n",
    "print(f\"Baseline RF Accuracy: {baseline_acc:.3f}\")\n",
    "print(f\"Tuned RF Accuracy: {rf_acc:.3f}\")\n",
    "print(f\"Tuned SVM Accuracy: {svm_acc:.3f}\")\n",
    "\n",
    "# Pick best model\n",
    "if rf_acc >= svm_acc:\n",
    "    best_model = best_rf\n",
    "    print(\"Selected Model: Random Forest\")\n",
    "else:\n",
    "    best_model = best_svm\n",
    "    print(\"Selected Model: SVM\")\n"
   ]
  },
  {
   "cell_type": "code",
   "execution_count": 8,
   "id": "55178fa3",
   "metadata": {},
   "outputs": [
    {
     "name": "stdout",
     "output_type": "stream",
     "text": [
      "\n",
      "Model Comparison:\n",
      "Baseline RF Accuracy: 0.817\n",
      "Tuned RF Accuracy: 0.833\n",
      "Tuned SVM Accuracy: 0.867\n",
      "Selected Model: SVM\n"
     ]
    }
   ],
   "source": [
    "print(\"\\nModel Comparison:\")\n",
    "print(f\"Baseline RF Accuracy: {baseline_acc:.3f}\")\n",
    "print(f\"Tuned RF Accuracy: {rf_acc:.3f}\")\n",
    "print(f\"Tuned SVM Accuracy: {svm_acc:.3f}\")\n",
    "\n",
    "# Pick best model\n",
    "if rf_acc >= svm_acc:\n",
    "    best_model = best_rf\n",
    "    print(\"Selected Model: Random Forest\")\n",
    "else:\n",
    "    best_model = best_svm\n",
    "    print(\"Selected Model: SVM\")\n",
    "\n"
   ]
  },
  {
   "cell_type": "code",
   "execution_count": 9,
   "id": "76aa89b3",
   "metadata": {},
   "outputs": [
    {
     "name": "stdout",
     "output_type": "stream",
     "text": [
      "Best model saved as models/final_model.pkl\n"
     ]
    }
   ],
   "source": [
    "import os       # for creating folders\n",
    "import joblib   # for saving/loading models\n",
    "\n",
    "# Make sure models folder exists\n",
    "os.makedirs(\"models\", exist_ok=True)\n",
    "\n",
    "# Save best model\n",
    "joblib.dump(best_model, \"models/final_model.pkl\")\n",
    "\n",
    "print(\"Best model saved as models/final_model.pkl\")\n"
   ]
  },
  {
   "cell_type": "code",
   "execution_count": 10,
   "id": "75acb241",
   "metadata": {},
   "outputs": [
    {
     "name": "stdout",
     "output_type": "stream",
     "text": [
      "Sample prediction: [0]\n"
     ]
    }
   ],
   "source": [
    "# Reload model to confirm\n",
    "loaded_model = joblib.load(\"models/final_model.pkl\")\n",
    "\n",
    "sample = X.iloc[[0]]\n",
    "print(\"Sample prediction:\", loaded_model.predict(sample))\n"
   ]
  },
  {
   "cell_type": "code",
   "execution_count": 11,
   "id": "3e2152b3",
   "metadata": {},
   "outputs": [
    {
     "name": "stdout",
     "output_type": "stream",
     "text": [
      "['ca', 'thalach', 'oldpeak', 'cp_4.0', 'thal_7.0', 'age', 'chol', 'trestbps', 'exang', 'slope_2.0']\n"
     ]
    }
   ],
   "source": [
    "print(X_train.columns.tolist())\n"
   ]
  }
 ],
 "metadata": {
  "kernelspec": {
   "display_name": "Python 3",
   "language": "python",
   "name": "python3"
  },
  "language_info": {
   "codemirror_mode": {
    "name": "ipython",
    "version": 3
   },
   "file_extension": ".py",
   "mimetype": "text/x-python",
   "name": "python",
   "nbconvert_exporter": "python",
   "pygments_lexer": "ipython3",
   "version": "3.12.1"
  }
 },
 "nbformat": 4,
 "nbformat_minor": 5
}
